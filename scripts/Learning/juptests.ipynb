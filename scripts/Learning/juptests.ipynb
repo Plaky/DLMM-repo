{
 "cells": [
  {
   "cell_type": "code",
   "execution_count": 4,
   "metadata": {},
   "outputs": [
    {
     "name": "stdout",
     "output_type": "stream",
     "text": [
      "{'status': 'Account found, processing...'}\n"
     ]
    }
   ],
   "source": [
    "from solana.rpc.api import Client\n",
    "from solders.pubkey import Pubkey\n",
    "import base64\n",
    "\n",
    "def get_lp_token_address(pool_address: str):\n",
    "    \"\"\"\n",
    "    Gets the LP token address from a Solana liquidity pool\n",
    "    \n",
    "    Args:\n",
    "        pool_address (str): The address of the liquidity pool\n",
    "        \n",
    "    Returns:\n",
    "        str: The LP token address, or None if it couldn't be found\n",
    "    \"\"\"\n",
    "    # Step 1: Connect to Solana\n",
    "    client = Client(\"https://api.mainnet-beta.solana.com\")\n",
    "    \n",
    "    # Step 2: Fetch the account data\n",
    "    try:\n",
    "        pool_pubkey = Pubkey.from_string(pool_address)\n",
    "        account_info = client.get_account_info(pool_pubkey)\n",
    "        \n",
    "        # Step 3: Check if data was returned\n",
    "        if not account_info.value:\n",
    "            return {\"error\": \"Pool account not found\"}\n",
    "            \n",
    "        # We'll add deserialization logic in the next steps\n",
    "        return {\"status\": \"Account found, processing...\"}\n",
    "        \n",
    "    except Exception as e:\n",
    "        return {\"error\": f\"Failed to fetch account data: {str(e)}\"}\n",
    "\n",
    "print(get_lp_token_address('D6Rgz1JG2syjsTXGaSAZ39cLffWL4TfabEAAnJHGRrZC'))"
   ]
  }
 ],
 "metadata": {
  "kernelspec": {
   "display_name": "Python 3",
   "language": "python",
   "name": "python3"
  },
  "language_info": {
   "codemirror_mode": {
    "name": "ipython",
    "version": 3
   },
   "file_extension": ".py",
   "mimetype": "text/x-python",
   "name": "python",
   "nbconvert_exporter": "python",
   "pygments_lexer": "ipython3",
   "version": "3.12.9"
  }
 },
 "nbformat": 4,
 "nbformat_minor": 2
}
