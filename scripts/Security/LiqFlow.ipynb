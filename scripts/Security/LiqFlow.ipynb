{
 "cells": [
  {
   "cell_type": "code",
   "execution_count": 1,
   "metadata": {},
   "outputs": [
    {
     "ename": "NameError",
     "evalue": "name 'GWmJxHN9HXeYeMBGGmSPXNgAuf8CFvshgi92opXQXi5' is not defined",
     "output_type": "error",
     "traceback": [
      "\u001b[31m---------------------------------------------------------------------------\u001b[39m",
      "\u001b[31mNameError\u001b[39m                                 Traceback (most recent call last)",
      "\u001b[36mCell\u001b[39m\u001b[36m \u001b[39m\u001b[32mIn[1]\u001b[39m\u001b[32m, line 33\u001b[39m\n\u001b[32m     30\u001b[39m         \u001b[38;5;28mprint\u001b[39m(\u001b[33mf\u001b[39m\u001b[33m\"\u001b[39m\u001b[33mError fetching pool data: \u001b[39m\u001b[38;5;132;01m{\u001b[39;00me\u001b[38;5;132;01m}\u001b[39;00m\u001b[33m\"\u001b[39m)\n\u001b[32m     31\u001b[39m         \u001b[38;5;28;01mreturn\u001b[39;00m []\n\u001b[32m---> \u001b[39m\u001b[32m33\u001b[39m find_pools_for_token(\u001b[43mGWmJxHN9HXeYeMBGGmSPXNgAuf8CFvshgi92opXQXi5\u001b[49m)\n",
      "\u001b[31mNameError\u001b[39m: name 'GWmJxHN9HXeYeMBGGmSPXNgAuf8CFvshgi92opXQXi5' is not defined"
     ]
    }
   ],
   "source": [
    "import requests\n",
    "from typing import List, Dict, Any, Optional\n",
    "\n",
    "def find_pools_for_token(token_address: str) -> List[Dict[str, Any]]:\n",
    "    \"\"\"\n",
    "    Find all liquidity pools for a given token using DexScreener API\n",
    "    \n",
    "    Args:\n",
    "        token_address: The token's contract address\n",
    "        \n",
    "    Returns:\n",
    "        List of pool data dictionaries\n",
    "    \"\"\"\n",
    "    url = f\"https://api.dexscreener.com/latest/dex/tokens/{token_address}\"\n",
    "    \n",
    "    try:\n",
    "        response = requests.get(url, timeout=10)\n",
    "        response.raise_for_status()  # Raise exception for bad responses\n",
    "        \n",
    "        data = response.json()\n",
    "        pairs = data.get(\"pairs\", [])\n",
    "        \n",
    "        if not pairs:\n",
    "            print(f\"No pools found for token {token_address}\")\n",
    "            return []\n",
    "            \n",
    "        return pairs\n",
    "        \n",
    "    except requests.exceptions.RequestException as e:\n",
    "        print(f\"Error fetching pool data: {e}\")\n",
    "        return []\n",
    "\n",
    "find_pools_for_token(token_address='GWmJxHN9HXeYeMBGGmSPXNgAuf8CFvshgi92opXQXi5')"
   ]
  }
 ],
 "metadata": {
  "kernelspec": {
   "display_name": "Python 3",
   "language": "python",
   "name": "python3"
  },
  "language_info": {
   "codemirror_mode": {
    "name": "ipython",
    "version": 3
   },
   "file_extension": ".py",
   "mimetype": "text/x-python",
   "name": "python",
   "nbconvert_exporter": "python",
   "pygments_lexer": "ipython3",
   "version": "3.12.9"
  }
 },
 "nbformat": 4,
 "nbformat_minor": 2
}
