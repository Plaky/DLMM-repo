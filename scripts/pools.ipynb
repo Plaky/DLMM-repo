{
 "cells": [
  {
   "cell_type": "code",
   "execution_count": 1,
   "metadata": {},
   "outputs": [
    {
     "name": "stdout",
     "output_type": "stream",
     "text": [
      "Retrieved Pools:\n",
      "Name: Qforge-SOL, Address: CEGNQsZsTLCfdsdEC1nXN2p8DRwdTMfrqnE3DwSPXTzr, TVL: 0.00002275700895413727\n",
      "Name: RSI-USDC, Address: 9guNyS2P2GJY7UeseMyhPuR6t1ecgA7TfynGyx9UaEPn, TVL: 0.00000012258975254816504\n",
      "Name: BOXBOX-USDC, Address: C33Pv7S6EKFsE7hWEx4Q2BWP6kZmYjQCXVK9xbuazh4p, TVL: 0.000018998727000000002\n",
      "Name: USD-SOL, Address: DxyL2zLLEGKUTSxMmL7jWJsX2Mni8AfJ6q87yoiEGred, TVL: 0.00000000512117277858178\n",
      "Name: FWOG-UFD, Address: CE5BRr4zaiJpc8GR669Yp248f8dweEPmBEA3PQqycURA, TVL: 0\n"
     ]
    }
   ],
   "source": [
    "import requests\n",
    "\n",
    "# Define the base URL of the API\n",
    "BASE_URL = \"https://dlmm-api.meteora.ag\"  # Replace with the correct API URL if needed\n",
    "\n",
    "# Endpoint to fetch all pools\n",
    "endpoint = \"/pair/all\"\n",
    "\n",
    "# Define the request parameters (optional)\n",
    "params = {\n",
    "    \"include_unknown\": \"true\"  # Include pools with unverified tokens (default: True)\n",
    "}\n",
    "\n",
    "# Make the request\n",
    "try:\n",
    "    response = requests.get(BASE_URL + endpoint, params=params)\n",
    "    response.raise_for_status()  # Raise an error for HTTP errors (4xx, 5xx)\n",
    "    \n",
    "    # Parse JSON response\n",
    "    pools = response.json()\n",
    "\n",
    "    # Display the first few pools\n",
    "    print(\"Retrieved Pools:\")\n",
    "    for pool in pools[:5]:  # Show only first 5 for brevity\n",
    "        print(f\"Name: {pool['name']}, Address: {pool['address']}, TVL: {pool.get('liquidity', 'N/A')}\")\n",
    "\n",
    "except requests.exceptions.RequestException as e:\n",
    "    print(f\"Error fetching pools: {e}\")\n"
   ]
  }
 ],
 "metadata": {
  "kernelspec": {
   "display_name": "Python 3",
   "language": "python",
   "name": "python3"
  },
  "language_info": {
   "codemirror_mode": {
    "name": "ipython",
    "version": 3
   },
   "file_extension": ".py",
   "mimetype": "text/x-python",
   "name": "python",
   "nbconvert_exporter": "python",
   "pygments_lexer": "ipython3",
   "version": "3.12.9"
  }
 },
 "nbformat": 4,
 "nbformat_minor": 2
}
