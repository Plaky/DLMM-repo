{
 "cells": [
  {
   "cell_type": "code",
   "execution_count": 5,
   "metadata": {},
   "outputs": [
    {
     "name": "stdout",
     "output_type": "stream",
     "text": [
      "Retrieved Pools:\n",
      "Name: GNZ-SOL, Address: C4CJcu3cGVpfke7UeX2o4skfAAXDbtQQNjQFXYeP5PrB, TVL: 673.0566384453132\n",
      "Name: BF-USDC, Address: 9sB7KecMGce7yzcRp4Ub9kkDMmDqf6y53P6qsPnmHq2g, TVL: 0.5232964405839999\n",
      "Name: Bae-SOL, Address: BzX4rPnpidpURQpFAUMrbYicfk4oYwkFNWow3R23wh5o, TVL: 5.780166544122931\n",
      "Name: $BLM-SOL, Address: 8quzVpf9yGQvPusuc1KLNP84Z85vptFa74fcZGLjUvkb, TVL: 0.08131119901810115\n",
      "Name: AM-SOL, Address: HLDjD4RPNeT8JrDmYSyuT2gu24o8sxNyYK4jGXgAGYZH, TVL: 2295.3254551010355\n"
     ]
    }
   ],
   "source": [
    "import requests\n",
    "\n",
    "# Define the base URL of the API\n",
    "BASE_URL = \"https://dlmm-api.meteora.ag\"  # Replace with the correct API URL if needed\n",
    "\n",
    "# Endpoint to fetch all pools\n",
    "endpoint = \"/pair/all\"\n",
    "\n",
    "# Define the request parameters (optional)\n",
    "params = {\n",
    "    \"include_unknown\": \"true\"  # Include pools with unverified tokens (default: True)\n",
    "}\n",
    "\n",
    "# Make the request\n",
    "try:\n",
    "    response = requests.get(BASE_URL + endpoint, params=params)\n",
    "    response.raise_for_status()  # Raise an error for HTTP errors (4xx, 5xx)\n",
    "    \n",
    "    # Parse JSON response\n",
    "    pools = response.json()\n",
    "\n",
    "    # Display the first few pools\n",
    "    print(\"Retrieved Pools:\")\n",
    "    for pool in pools[:5]:  # Show only first 5 for brevity\n",
    "        print(f\"Name: {pool['name']}, Address: {pool['address']}, TVL: {pool.get('liquidity', 'N/A')}\")\n",
    "\n",
    "except requests.exceptions.RequestException as e:\n",
    "    print(f\"Error fetching pools: {e}\")\n"
   ]
  }
 ],
 "metadata": {
  "kernelspec": {
   "display_name": "Python 3",
   "language": "python",
   "name": "python3"
  },
  "language_info": {
   "codemirror_mode": {
    "name": "ipython",
    "version": 3
   },
   "file_extension": ".py",
   "mimetype": "text/x-python",
   "name": "python",
   "nbconvert_exporter": "python",
   "pygments_lexer": "ipython3",
   "version": "3.12.9"
  }
 },
 "nbformat": 4,
 "nbformat_minor": 2
}
