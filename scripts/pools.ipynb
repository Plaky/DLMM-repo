{
 "cells": [
  {
   "cell_type": "code",
   "execution_count": 2,
   "metadata": {},
   "outputs": [
    {
     "name": "stdout",
     "output_type": "stream",
     "text": [
      "Retrieved Pools:\n",
      "Name: TRGT-SOL, Address: FF2gScWd3qKUEVsCwikdkqB1pgTpy6NLe9tXhA3uJVzi, TVL: 0\n",
      "Name: AAA-SOL, Address: 9eKnVPhJgGizCmNNaGhe1zX24DruCddHv9VgbZgNzkrz, TVL: 0\n",
      "Name: ANDYISM-SOL, Address: 6wFeXtRKNNNkpvsSKJSA1jFojY8Au3jYcWADpFyzwiuQ, TVL: 0.000000029133762035063268\n",
      "Name: PONKE-WEN, Address: HsyRCp264z6VbPhorSF53Gm32pu1ziD6CjPHuGMzVny2, TVL: 0.000000011848528570491813\n",
      "Name: HONK-SOL, Address: HanqfsQVrEhp7YfEfrLF52TSqfhUexJwPa5xrvguqGT2, TVL: 0.000000009284386808065749\n"
     ]
    }
   ],
   "source": [
    "import requests\n",
    "\n",
    "# Define the base URL of the API\n",
    "BASE_URL = \"https://dlmm-api.meteora.ag\"  # Replace with the correct API URL if needed\n",
    "\n",
    "# Endpoint to fetch all pools\n",
    "endpoint = \"/pair/all\"\n",
    "\n",
    "# Define the request parameters (optional)\n",
    "params = {\n",
    "    \"include_unknown\": \"true\"  # Include pools with unverified tokens (default: True)\n",
    "}\n",
    "\n",
    "# Make the request\n",
    "try:\n",
    "    response = requests.get(BASE_URL + endpoint, params=params)\n",
    "    response.raise_for_status()  # Raise an error for HTTP errors (4xx, 5xx)\n",
    "    \n",
    "    # Parse JSON response\n",
    "    pools = response.json()\n",
    "\n",
    "    # Display the first few pools\n",
    "    print(\"Retrieved Pools:\")\n",
    "    for pool in pools[:5]:  # Show only first 5 for brevity\n",
    "        print(f\"Name: {pool['name']}, Address: {pool['address']}, TVL: {pool.get('liquidity', 'N/A')}\")\n",
    "\n",
    "except requests.exceptions.RequestException as e:\n",
    "    print(f\"Error fetching pools: {e}\")\n"
   ]
  }
 ],
 "metadata": {
  "kernelspec": {
   "display_name": "Python 3",
   "language": "python",
   "name": "python3"
  },
  "language_info": {
   "codemirror_mode": {
    "name": "ipython",
    "version": 3
   },
   "file_extension": ".py",
   "mimetype": "text/x-python",
   "name": "python",
   "nbconvert_exporter": "python",
   "pygments_lexer": "ipython3",
   "version": "3.12.9"
  }
 },
 "nbformat": 4,
 "nbformat_minor": 2
}
